{
 "cells": [
  {
   "cell_type": "code",
   "execution_count": null,
   "metadata": {},
   "outputs": [],
   "source": [
    "# Libs necessárias\n",
    "import pandas as pd\n",
    "import numpy as np\n",
    "\n",
    "# Lib graficas\n",
    "import matplotlib.pyplot as plt\n",
    "import seaborn as sns\n",
    "\n",
    "# Avisos\n",
    "import warnings\n",
    "\n",
    "warnings.filterwarnings('ignore')\n",
    "\n",
    "# Configuração no pandas\n",
    "pd.set_option('display.max_rows', 200)\n",
    "pd.set_option('display.max_columns', 100)\n",
    "\n",
    "# Configuração no Matplotlib\n",
    "plt.rcParams['figure.figsize'] = (15, 6)\n",
    "plt.style.use('ggplot')"
   ]
  },
  {
   "cell_type": "markdown",
   "metadata": {},
   "source": [
    "# **Exploração dos dados**"
   ]
  },
  {
   "cell_type": "code",
   "execution_count": null,
   "metadata": {},
   "outputs": [],
   "source": [
    "# Pergunta em Aberto...\n",
    "# Quanto vale o aluguel da sua casa?"
   ]
  },
  {
   "cell_type": "code",
   "execution_count": null,
   "metadata": {},
   "outputs": [],
   "source": [
    "# Lendo os dados\n",
    "Base_Dados = pd.read_csv('house_data.csv')\n",
    "\n",
    "# Dimensão\n",
    "Base_Dados.shape"
   ]
  },
  {
   "cell_type": "code",
   "execution_count": null,
   "metadata": {},
   "outputs": [],
   "source": [
    "# Verificar\n",
    "Base_Dados.head()"
   ]
  },
  {
   "cell_type": "code",
   "execution_count": null,
   "metadata": {},
   "outputs": [],
   "source": [
    "# Removendo colunas\n",
    "Base_Dados.drop(columns=['fire insurance (R$)', 'total (R$)'], inplace=True)"
   ]
  },
  {
   "cell_type": "code",
   "execution_count": null,
   "metadata": {},
   "outputs": [],
   "source": [
    "# Verificar\n",
    "Base_Dados.shape"
   ]
  },
  {
   "cell_type": "code",
   "execution_count": null,
   "metadata": {},
   "outputs": [],
   "source": [
    "# Campos vazios\n",
    "Base_Dados.isnull().sum().sort_values(ascending=False)"
   ]
  },
  {
   "cell_type": "code",
   "execution_count": null,
   "metadata": {},
   "outputs": [],
   "source": [
    "# Campos unicos\n",
    "Base_Dados.nunique()"
   ]
  },
  {
   "cell_type": "code",
   "execution_count": null,
   "metadata": {},
   "outputs": [],
   "source": [
    "# Tipos das colunas\n",
    "Base_Dados.info()"
   ]
  },
  {
   "cell_type": "code",
   "execution_count": null,
   "metadata": {},
   "outputs": [],
   "source": [
    "# Tipo de colunas\n",
    "Base_Dados.dtypes.value_counts()"
   ]
  },
  {
   "cell_type": "markdown",
   "metadata": {},
   "source": [
    "# **Exploração Analitica (EDA)**"
   ]
  },
  {
   "cell_type": "code",
   "execution_count": null,
   "metadata": {},
   "outputs": [],
   "source": [
    "# Filtrar os tipos de colunas\n",
    "Colunas_Categoricas = Base_Dados.columns[Base_Dados.dtypes == object]\n",
    "Colunas_Numericas = Base_Dados.columns[Base_Dados.dtypes != object]\n",
    "\n",
    "Colunas_Categoricas, Colunas_Numericas"
   ]
  },
  {
   "cell_type": "code",
   "execution_count": null,
   "metadata": {},
   "outputs": [],
   "source": [
    "# Análise dos campos objetos\n",
    "Base_Dados['city'].value_counts(normalize=True) * 100"
   ]
  },
  {
   "cell_type": "code",
   "execution_count": null,
   "metadata": {},
   "outputs": [],
   "source": [
    "# Loop\n",
    "for Coluna in Colunas_Categoricas:\n",
    "    # Fazendo a análise\n",
    "    Analise = Base_Dados[Coluna].value_counts(normalize=True) * 100\n",
    "\n",
    "    # Mostrando\n",
    "    print(Coluna, '\\n', Analise, '\\n')"
   ]
  },
  {
   "cell_type": "code",
   "execution_count": null,
   "metadata": {},
   "outputs": [],
   "source": [
    "# Correção nos dados\n",
    "\n",
    "# Ajustando o Andar\n",
    "Base_Dados.loc[Base_Dados['floor'] == '301']\n",
    "Base_Dados.iloc[2562, 5] = 30\n",
    "\n",
    "# Ajustar o '-'\n",
    "Base_Dados['floor'] = Base_Dados['floor'].apply(lambda Registro: 0 if Registro == '-' else Registro)\n",
    "Base_Dados['floor'] = pd.to_numeric(Base_Dados['floor'])\n",
    "\n",
    "# Verificar\n",
    "Base_Dados.head()"
   ]
  },
  {
   "cell_type": "code",
   "execution_count": null,
   "metadata": {},
   "outputs": [],
   "source": [
    "len(Colunas_Numericas)"
   ]
  },
  {
   "cell_type": "code",
   "execution_count": null,
   "metadata": {},
   "outputs": [],
   "source": [
    "# Grid - Gráficos\n",
    "\n",
    "# Tamanho\n",
    "Figura, Eixo = plt.subplots(figsize=(20, 30))\n",
    "\n",
    "# Cor de fundo\n",
    "Cor_Fundo = '#f5f5f5'\n",
    "Figura.set_facecolor(Cor_Fundo)\n",
    "\n",
    "# Paleta de Cores\n",
    "Paleta_Cores = sns.color_palette('flare', len(Colunas_Numericas) * 2)\n",
    "\n",
    "# Titulo\n",
    "plt.suptitle('Análise das Variaveis Numericas', fontsize=22, color='#404040', fontweight=600)\n",
    "\n",
    "# Estrutura\n",
    "Linhas = 7  # (Todas as infos numéricas)\n",
    "Colunas = 2  #( Boxplot - Distplot)\n",
    "Posicao = 1  # Posição inicial do grid\n",
    "\n",
    "# Loop para plotar os gráficos\n",
    "for Coluna in Colunas_Numericas:\n",
    "    # Plot no Grid -- Boxplot\n",
    "    plt.subplot(Linhas, Colunas, Posicao)\n",
    "\n",
    "    # Titulo\n",
    "    plt.title(f'{Coluna}', loc='left', fontsize=14, fontweight=200)\n",
    "\n",
    "    # Plot\n",
    "    sns.boxplot(data=Base_Dados, y=Coluna, showmeans=True, saturation=0.75,\n",
    "                linewidth=1, color=Paleta_Cores[Posicao], width=0.25)\n",
    "\n",
    "    # Mudar\n",
    "    Posicao += 1\n",
    "\n",
    "    # Plot no Grid -- Distplot\n",
    "    plt.subplot(Linhas, Colunas, Posicao)\n",
    "\n",
    "    # Titulo\n",
    "    plt.title(f'{Coluna}', loc='left', fontsize=14, fontweight=200)\n",
    "\n",
    "    # Plot\n",
    "    sns.distplot(Base_Dados[Coluna], color=Paleta_Cores[Posicao - 1])\n",
    "\n",
    "    # Mudar\n",
    "    Posicao += 1\n",
    "\n",
    "# Ajuste de Grid\n",
    "plt.subplots_adjust(top=0.95, hspace=0.3)"
   ]
  },
  {
   "cell_type": "markdown",
   "metadata": {},
   "source": [
    "# **Eng de Features**"
   ]
  },
  {
   "cell_type": "code",
   "execution_count": null,
   "metadata": {},
   "outputs": [],
   "source": [
    "# Ajuste das colunas categóricas\n",
    "Base_Dados['animal'] = Base_Dados['animal'].map({'acept': 1, 'not acept': 0})\n",
    "Base_Dados['furniture'] = Base_Dados['furniture'].map({'furnished': 1, 'not furnished': 0})\n",
    "\n",
    "# Filtrar a Cidade de São Paulo\n",
    "Filtro_SP = Base_Dados.loc[Base_Dados['city'] == 'São Paulo']\n",
    "\n",
    "# Verificar\n",
    "Filtro_SP.head()"
   ]
  },
  {
   "cell_type": "code",
   "execution_count": null,
   "metadata": {},
   "outputs": [],
   "source": [
    "# Retirando a Coluna Cidade\n",
    "Filtro_SP.drop(columns=['city'], inplace=True)"
   ]
  },
  {
   "cell_type": "code",
   "execution_count": null,
   "metadata": {},
   "outputs": [],
   "source": [
    "# Separa os dados\n",
    "Caracteristicas = Filtro_SP.drop(columns=['rent amount (R$)'])\n",
    "Previsor = Filtro_SP['rent amount (R$)']\n",
    "\n",
    "# Verificar\n",
    "Caracteristicas.shape, Previsor.shape"
   ]
  },
  {
   "cell_type": "code",
   "execution_count": null,
   "metadata": {},
   "outputs": [],
   "source": [
    "# Características\n",
    "Caracteristicas.head()"
   ]
  },
  {
   "cell_type": "code",
   "execution_count": null,
   "metadata": {},
   "outputs": [],
   "source": [
    "# Previsor\n",
    "Previsor.head()"
   ]
  },
  {
   "cell_type": "code",
   "execution_count": null,
   "metadata": {},
   "outputs": [],
   "source": [
    "# Correlação\n",
    "Filtro_SP.corr()\n",
    "\n",
    "# Proxima de 1 - Correlação Positiva [Ambas Sobem]\n",
    "# Proxima de -1 - Correlação Negativa [Uma sobe outra desce]"
   ]
  },
  {
   "cell_type": "code",
   "execution_count": null,
   "metadata": {},
   "outputs": [],
   "source": [
    "# Yellowbrick\n",
    "from yellowbrick.features import Rank2D\n",
    "\n",
    "# Definir o método\n",
    "Correlacao = Rank2D(algoritmo='pearson')\n",
    "\n",
    "# Fitar função\n",
    "Correlacao.fit(Caracteristicas, Previsor)\n",
    "Correlacao.transform(Caracteristicas)\n",
    "Correlacao.show();"
   ]
  },
  {
   "cell_type": "code",
   "execution_count": null,
   "metadata": {},
   "outputs": [],
   "source": [
    "# Separa os dados\n",
    "from sklearn.model_selection import train_test_split\n",
    "\n",
    "# Divisão dos dados\n",
    "x_treino, x_teste, y_treino, y_teste = train_test_split(\n",
    "    Caracteristicas, Previsor, test_size=0.2, random_state=10\n",
    ")\n",
    "\n",
    "print(f'Dados de Treino: {x_treino.shape[0]}')\n",
    "print(f'Dados de Teste: {x_teste.shape[0]}')"
   ]
  },
  {
   "cell_type": "code",
   "execution_count": null,
   "metadata": {},
   "outputs": [],
   "source": [
    "# Features mais relevantes\n",
    "from sklearn.feature_selection import mutual_info_regression\n",
    "from sklearn.feature_selection import SelectKBest\n",
    "\n",
    "\n",
    "# Seleção de features\n",
    "def Selecao_Features(x_treino, y_treino):\n",
    "    # Configurar para selecionar as features\n",
    "    Selecao = SelectKBest(score_func=mutual_info_regression, k=5)\n",
    "\n",
    "    # Fitar o aprendizado\n",
    "    Selecao.fit(x_treino, y_treino)\n",
    "\n",
    "    return Selecao\n",
    "\n",
    "\n",
    "# Aplicar essa função\n",
    "Scores = Selecao_Features(x_treino, y_treino)\n",
    "\n",
    "# Analisar\n",
    "for Posicao, Score in enumerate(Scores.scores_):\n",
    "    print(f' {x_treino.columns[Posicao]} : {Score}')"
   ]
  },
  {
   "cell_type": "markdown",
   "metadata": {},
   "source": [
    "# **Construção do Modelo**"
   ]
  },
  {
   "cell_type": "code",
   "execution_count": null,
   "metadata": {},
   "outputs": [],
   "source": [
    "# Modelo Random Forest Regressor\n",
    "from sklearn.ensemble import RandomForestRegressor\n",
    "\n",
    "# Instanciar\n",
    "Modelo_Floresta = RandomForestRegressor(max_depth=5)\n",
    "\n",
    "# Fitar\n",
    "Modelo_Floresta.fit(x_treino, y_treino)"
   ]
  },
  {
   "cell_type": "code",
   "execution_count": null,
   "metadata": {},
   "outputs": [],
   "source": [
    "# Avaliar a performance\n",
    "Previsoes = Modelo_Floresta.predict(x_teste)\n",
    "\n",
    "# Funcao para avaliar\n",
    "from sklearn.metrics import mean_squared_error, r2_score\n",
    "from math import sqrt\n",
    "\n",
    "print(f'RMSE: {sqrt(mean_squared_error(y_teste, Previsoes))} ')\n",
    "print(f'Score: {r2_score(y_teste, Previsoes)} ')"
   ]
  },
  {
   "cell_type": "code",
   "execution_count": null,
   "metadata": {},
   "outputs": [],
   "source": [
    "# Avaliando Yellowbrick\n",
    "from yellowbrick.regressor import PredictionError\n",
    "\n",
    "# Instanciar\n",
    "Modelo = RandomForestRegressor(max_depth=5)\n",
    "Erro_Modelo = PredictionError(Modelo)\n",
    "\n",
    "# Fitar\n",
    "Erro_Modelo.fit(x_treino, y_treino)\n",
    "Erro_Modelo.score(x_teste, y_teste)\n",
    "Erro_Modelo.show();"
   ]
  },
  {
   "cell_type": "markdown",
   "metadata": {},
   "source": [
    "# **Exportação**"
   ]
  },
  {
   "cell_type": "code",
   "execution_count": null,
   "metadata": {},
   "outputs": [],
   "source": [
    "# Exportando o modelo\n",
    "import joblib\n",
    "\n",
    "# Função\n",
    "joblib.dump(Modelo_Floresta, 'Modelo_Floresta_Aleatorio_v100.pkl')"
   ]
  },
  {
   "cell_type": "code",
   "execution_count": null,
   "metadata": {},
   "outputs": [],
   "source": [
    "# Testando o modelo treinado\n",
    "Funcao_Modelo_Carregado = joblib.load('Modelo_Floresta_Aleatorio_v100.pkl')"
   ]
  },
  {
   "cell_type": "code",
   "execution_count": null,
   "metadata": {},
   "outputs": [],
   "source": [
    "# Testando\n",
    "Funcao_Modelo_Carregado.predict(x_teste.head(1).values)"
   ]
  },
  {
   "cell_type": "code",
   "execution_count": null,
   "metadata": {},
   "outputs": [],
   "source": [
    "x_teste.head(2).values"
   ]
  },
  {
   "cell_type": "code",
   "execution_count": null,
   "metadata": {},
   "outputs": [],
   "source": []
  }
 ],
 "metadata": {
  "colab": {
   "provenance": []
  },
  "kernelspec": {
   "display_name": "Python 3",
   "name": "python3"
  },
  "language_info": {
   "name": "python"
  }
 },
 "nbformat": 4,
 "nbformat_minor": 0
}
