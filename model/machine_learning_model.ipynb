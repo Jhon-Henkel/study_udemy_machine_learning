{
 "nbformat": 4,
 "nbformat_minor": 0,
 "metadata": {
  "colab": {
   "provenance": []
  },
  "kernelspec": {
   "name": "python3",
   "display_name": "Python 3"
  },
  "language_info": {
   "name": "python"
  }
 },
 "cells": [
  {
   "cell_type": "code",
   "metadata": {
    "id": "ywhh7M78vDw3"
   },
   "source": [
    "# Libs necessárias\n",
    "import pandas as pd\n",
    "import numpy as np\n",
    "\n",
    "# Lib graficas\n",
    "import matplotlib.pyplot as plt\n",
    "import seaborn as sns\n",
    "\n",
    "# Avisos\n",
    "import warnings\n",
    "\n",
    "warnings.filterwarnings('ignore')\n",
    "\n",
    "# Configuração no pandas\n",
    "pd.set_option('display.max_rows', 200)\n",
    "pd.set_option('display.max_columns', 100)\n",
    "\n",
    "# Configuração no Matplotlib\n",
    "plt.rcParams['figure.figsize'] = (15, 6)\n",
    "plt.style.use('ggplot')"
   ],
   "outputs": [],
   "execution_count": null
  },
  {
   "cell_type": "markdown",
   "source": [
    "# **Exploração dos dados**"
   ],
   "metadata": {
    "id": "qCqYzCS7wKnq"
   }
  },
  {
   "cell_type": "code",
   "source": [
    "# Pergunta em Aberto...\n",
    "# Quanto vale o aluguel da sua casa?"
   ],
   "metadata": {
    "id": "Y6M06PMbxGL3"
   },
   "outputs": [],
   "execution_count": null
  },
  {
   "cell_type": "code",
   "source": [
    "# Lendo os dados\n",
    "Base_Dados = pd.read_csv('house_data.csv')\n",
    "\n",
    "# Dimensão\n",
    "Base_Dados.shape"
   ],
   "metadata": {
    "colab": {
     "base_uri": "https://localhost:8080/"
    },
    "id": "ZZEgHJi0wF3N",
    "outputId": "4410f164-003b-49f5-fb31-d7d226eba2d9"
   },
   "outputs": [],
   "execution_count": null
  },
  {
   "cell_type": "code",
   "source": [
    "# Verificar\n",
    "Base_Dados.head()"
   ],
   "metadata": {
    "colab": {
     "base_uri": "https://localhost:8080/",
     "height": 206
    },
    "id": "kIBN7E5LwXzr",
    "outputId": "69eb48ff-03db-43c5-c1aa-73854a5f2fd7"
   },
   "outputs": [],
   "execution_count": null
  },
  {
   "cell_type": "code",
   "source": [
    "# Removendo colunas\n",
    "Base_Dados.drop(columns=['fire insurance (R$)', 'total (R$)'], inplace=True)"
   ],
   "metadata": {
    "id": "w93c4CwSwhXy"
   },
   "outputs": [],
   "execution_count": null
  },
  {
   "cell_type": "code",
   "source": [
    "# Verificar\n",
    "Base_Dados.shape"
   ],
   "metadata": {
    "colab": {
     "base_uri": "https://localhost:8080/"
    },
    "id": "oPQvDNSbxzJu",
    "outputId": "40ae04f4-b848-49a5-8f2a-491ccf42288e"
   },
   "outputs": [],
   "execution_count": null
  },
  {
   "cell_type": "code",
   "source": [
    "# Campos vazios\n",
    "Base_Dados.isnull().sum().sort_values(ascending=False)"
   ],
   "metadata": {
    "colab": {
     "base_uri": "https://localhost:8080/"
    },
    "id": "GqKAhOIqx5Yr",
    "outputId": "f6216be2-cd60-4011-c789-3a1918e154dd"
   },
   "outputs": [],
   "execution_count": null
  },
  {
   "cell_type": "code",
   "source": [
    "# Campos unicos\n",
    "Base_Dados.nunique()"
   ],
   "metadata": {
    "colab": {
     "base_uri": "https://localhost:8080/"
    },
    "id": "0GTQKhVJx-dY",
    "outputId": "f2965a91-a1d8-4a6f-b56d-d879508d7f2c"
   },
   "outputs": [],
   "execution_count": null
  },
  {
   "cell_type": "code",
   "source": [
    "# Tipos das colunas\n",
    "Base_Dados.info()"
   ],
   "metadata": {
    "colab": {
     "base_uri": "https://localhost:8080/"
    },
    "id": "WVIYTySYyNQz",
    "outputId": "c9a0bacc-253d-4ef0-859a-5d30eb486e14"
   },
   "outputs": [],
   "execution_count": null
  },
  {
   "cell_type": "code",
   "source": [
    "# Tipo de colunas\n",
    "Base_Dados.dtypes.value_counts()"
   ],
   "metadata": {
    "colab": {
     "base_uri": "https://localhost:8080/"
    },
    "id": "oV3BOBwNybmE",
    "outputId": "b1a5ad7f-1519-4721-ba79-643312cea6dc"
   },
   "outputs": [],
   "execution_count": null
  },
  {
   "cell_type": "markdown",
   "source": [
    "# **Exploração Analitica (EDA)**"
   ],
   "metadata": {
    "id": "geNMlUmhy5OE"
   }
  },
  {
   "cell_type": "code",
   "source": [
    "# Filtrar os tipos de colunas\n",
    "Colunas_Categoricas = Base_Dados.columns[Base_Dados.dtypes == object]\n",
    "Colunas_Numericas = Base_Dados.columns[Base_Dados.dtypes != object]\n",
    "\n",
    "Colunas_Categoricas, Colunas_Numericas"
   ],
   "metadata": {
    "colab": {
     "base_uri": "https://localhost:8080/"
    },
    "id": "F0tt8Zm3ylVT",
    "outputId": "123598a3-b4ac-4f8f-92d4-d502fe8a7982"
   },
   "outputs": [],
   "execution_count": null
  },
  {
   "cell_type": "code",
   "source": [
    "# Análise dos campos objetos\n",
    "Base_Dados['city'].value_counts(normalize=True) * 100"
   ],
   "metadata": {
    "colab": {
     "base_uri": "https://localhost:8080/"
    },
    "id": "UV7BRN-JzMb-",
    "outputId": "bda3e26c-740f-4496-8684-cb562e168c27"
   },
   "outputs": [],
   "execution_count": null
  },
  {
   "cell_type": "code",
   "source": [
    "# Loop\n",
    "for Coluna in Colunas_Categoricas:\n",
    "    # Fazendo a análise\n",
    "    Analise = Base_Dados[Coluna].value_counts(normalize=True) * 100\n",
    "\n",
    "    # Mostrando\n",
    "    print(Coluna, '\\n', Analise, '\\n')"
   ],
   "metadata": {
    "colab": {
     "base_uri": "https://localhost:8080/"
    },
    "id": "zkcY4kZ_0h8E",
    "outputId": "c4c59859-6bce-409e-d586-4ecbfee2f747"
   },
   "outputs": [],
   "execution_count": null
  },
  {
   "cell_type": "code",
   "source": [
    "# Correção nos dados\n",
    "\n",
    "# Ajustando o Andar\n",
    "Base_Dados.loc[Base_Dados['floor'] == '301']\n",
    "Base_Dados.iloc[2562, 5] = 30\n",
    "\n",
    "# Ajustar o '-'\n",
    "Base_Dados['floor'] = Base_Dados['floor'].apply(lambda Registro: 0 if Registro == '-' else Registro)\n",
    "Base_Dados['floor'] = pd.to_numeric(Base_Dados['floor'])\n",
    "\n",
    "# Verificar\n",
    "Base_Dados.head()"
   ],
   "metadata": {
    "colab": {
     "base_uri": "https://localhost:8080/",
     "height": 206
    },
    "id": "TRUW1QEg09MC",
    "outputId": "0a897299-d565-47d5-ed11-75845e73e7de"
   },
   "outputs": [],
   "execution_count": null
  },
  {
   "cell_type": "code",
   "source": "len(Colunas_Numericas)",
   "metadata": {
    "colab": {
     "base_uri": "https://localhost:8080/"
    },
    "id": "nDbwlH4V5BfV",
    "outputId": "0f348257-6ea9-4453-fcaf-acf1c2e0cbad"
   },
   "outputs": [],
   "execution_count": null
  },
  {
   "cell_type": "code",
   "source": [
    "# Grid - Gráficos\n",
    "\n",
    "# Tamanho\n",
    "Figura, Eixo = plt.subplots(figsize=(20, 30))\n",
    "\n",
    "# Cor de fundo\n",
    "Cor_Fundo = '#f5f5f5'\n",
    "Figura.set_facecolor(Cor_Fundo)\n",
    "\n",
    "# Paleta de Cores\n",
    "Paleta_Cores = sns.color_palette('flare', len(Colunas_Numericas) * 2)\n",
    "\n",
    "# Titulo\n",
    "plt.suptitle('Análise das Variaveis Numericas', fontsize=22, color='#404040', fontweight=600)\n",
    "\n",
    "# Estrutura\n",
    "Linhas = 7  # (Todas as infos numéricas)\n",
    "Colunas = 2  #( Boxplot - Distplot)\n",
    "Posicao = 1  # Posição inicial do grid\n",
    "\n",
    "# Loop para plotar os gráficos\n",
    "for Coluna in Colunas_Numericas:\n",
    "    # Plot no Grid -- Boxplot\n",
    "    plt.subplot(Linhas, Colunas, Posicao)\n",
    "\n",
    "    # Titulo\n",
    "    plt.title(f'{Coluna}', loc='left', fontsize=14, fontweight=200)\n",
    "\n",
    "    # Plot\n",
    "    sns.boxplot(data=Base_Dados, y=Coluna, showmeans=True, saturation=0.75,\n",
    "                linewidth=1, color=Paleta_Cores[Posicao], width=0.25)\n",
    "\n",
    "    # Mudar\n",
    "    Posicao += 1\n",
    "\n",
    "    # Plot no Grid -- Distplot\n",
    "    plt.subplot(Linhas, Colunas, Posicao)\n",
    "\n",
    "    # Titulo\n",
    "    plt.title(f'{Coluna}', loc='left', fontsize=14, fontweight=200)\n",
    "\n",
    "    # Plot\n",
    "    sns.distplot(Base_Dados[Coluna], color=Paleta_Cores[Posicao - 1])\n",
    "\n",
    "    # Mudar\n",
    "    Posicao += 1\n",
    "\n",
    "# Ajuste de Grid\n",
    "plt.subplots_adjust(top=0.95, hspace=0.3)"
   ],
   "metadata": {
    "colab": {
     "base_uri": "https://localhost:8080/",
     "height": 1000
    },
    "id": "keIzjAG43YOf",
    "outputId": "1a5733ef-17b9-4942-d3dd-f7824ce4f4fb"
   },
   "outputs": [],
   "execution_count": null
  },
  {
   "cell_type": "markdown",
   "source": [
    "# **Eng de Features**"
   ],
   "metadata": {
    "id": "8P2M5eRLAL2s"
   }
  },
  {
   "cell_type": "code",
   "source": [
    "# Ajuste das colunas categóricas\n",
    "Base_Dados['animal'] = Base_Dados['animal'].map({'acept': 1, 'not acept': 0})\n",
    "Base_Dados['furniture'] = Base_Dados['furniture'].map({'furnished': 1, 'not furnished': 0})\n",
    "\n",
    "# Filtrar a Cidade de São Paulo\n",
    "Filtro_SP = Base_Dados.loc[Base_Dados['city'] == 'São Paulo']\n",
    "\n",
    "# Verificar\n",
    "Filtro_SP.head()"
   ],
   "metadata": {
    "colab": {
     "base_uri": "https://localhost:8080/",
     "height": 206
    },
    "id": "CoMSqQmE_qzB",
    "outputId": "79a7a788-05e7-4831-a583-7ccbff73604d"
   },
   "outputs": [],
   "execution_count": null
  },
  {
   "cell_type": "code",
   "source": [
    "# Retirando a Coluna Cidade\n",
    "Filtro_SP.drop(columns=['city'], inplace=True)"
   ],
   "metadata": {
    "id": "kdFyuVx2CNVS"
   },
   "outputs": [],
   "execution_count": null
  },
  {
   "cell_type": "code",
   "source": [
    "# Separa os dados\n",
    "Caracteristicas = Filtro_SP.drop(columns=['rent amount (R$)'])\n",
    "Previsor = Filtro_SP['rent amount (R$)']\n",
    "\n",
    "# Verificar\n",
    "Caracteristicas.shape, Previsor.shape"
   ],
   "metadata": {
    "colab": {
     "base_uri": "https://localhost:8080/"
    },
    "id": "QlAyQGGnCfUa",
    "outputId": "58013169-b02c-4cdb-a896-dbb3f04ed27b"
   },
   "outputs": [],
   "execution_count": null
  },
  {
   "cell_type": "code",
   "source": [
    "# Características\n",
    "Caracteristicas.head()"
   ],
   "metadata": {
    "colab": {
     "base_uri": "https://localhost:8080/",
     "height": 206
    },
    "id": "1OW3l1RYDAqm",
    "outputId": "7e672166-36a4-44aa-a81a-2fae6863066f"
   },
   "outputs": [],
   "execution_count": null
  },
  {
   "cell_type": "code",
   "source": [
    "# Previsor\n",
    "Previsor.head()"
   ],
   "metadata": {
    "colab": {
     "base_uri": "https://localhost:8080/"
    },
    "id": "c7Gwimu6DPjc",
    "outputId": "5df048b3-d144-4256-de72-d5b1da9e2750"
   },
   "outputs": [],
   "execution_count": null
  },
  {
   "cell_type": "code",
   "source": [
    "# Correlação\n",
    "Filtro_SP.corr()\n",
    "\n",
    "# Proxima de 1 - Correlação Positiva [Ambas Sobem]\n",
    "# Proxima de -1 - Correlação Negativa [Uma sobe outra desce]"
   ],
   "metadata": {
    "colab": {
     "base_uri": "https://localhost:8080/",
     "height": 363
    },
    "id": "9cwQhrMbDjzj",
    "outputId": "06b2e896-9c40-4266-beff-e8a812b77dad"
   },
   "outputs": [],
   "execution_count": null
  },
  {
   "cell_type": "code",
   "source": [
    "# Yellowbrick\n",
    "from yellowbrick.features import Rank2D\n",
    "\n",
    "# Definir o método\n",
    "Correlacao = Rank2D(algoritmo='pearson')\n",
    "\n",
    "# Fitar função\n",
    "Correlacao.fit(Caracteristicas, Previsor)\n",
    "Correlacao.transform(Caracteristicas)\n",
    "Correlacao.show();"
   ],
   "metadata": {
    "colab": {
     "base_uri": "https://localhost:8080/",
     "height": 427
    },
    "id": "eT14OaEMDRe_",
    "outputId": "80fc6a78-7d1e-408d-8ce3-d40c80f3db07"
   },
   "outputs": [],
   "execution_count": null
  },
  {
   "cell_type": "code",
   "source": [
    "# Separa os dados\n",
    "from sklearn.model_selection import train_test_split\n",
    "\n",
    "# Divisão dos dados\n",
    "x_treino, x_teste, y_treino, y_teste = train_test_split(\n",
    "    Caracteristicas, Previsor, test_size=0.2, random_state=10\n",
    ")\n",
    "\n",
    "print(f'Dados de Treino: {x_treino.shape[0]}')\n",
    "print(f'Dados de Teste: {x_teste.shape[0]}')"
   ],
   "metadata": {
    "colab": {
     "base_uri": "https://localhost:8080/"
    },
    "id": "zcHG7uhbEWYU",
    "outputId": "10f3cfc4-b923-4203-d7f5-79f2a11b1586"
   },
   "outputs": [],
   "execution_count": null
  },
  {
   "cell_type": "code",
   "source": [
    "# Features mais relevantes\n",
    "from sklearn.feature_selection import mutual_info_regression\n",
    "from sklearn.feature_selection import SelectKBest\n",
    "\n",
    "\n",
    "# Seleção de features\n",
    "def Selecao_Features(x_treino, y_treino):\n",
    "    # Configurar para selecionar as features\n",
    "    Selecao = SelectKBest(score_func=mutual_info_regression, k=5)\n",
    "\n",
    "    # Fitar o aprendizado\n",
    "    Selecao.fit(x_treino, y_treino)\n",
    "\n",
    "    return Selecao\n",
    "\n",
    "\n",
    "# Aplicar essa função\n",
    "Scores = Selecao_Features(x_treino, y_treino)\n",
    "\n",
    "# Analisar\n",
    "for Posicao, Score in enumerate(Scores.scores_):\n",
    "    print(f' {x_treino.columns[Posicao]} : {Score}')"
   ],
   "metadata": {
    "colab": {
     "base_uri": "https://localhost:8080/"
    },
    "id": "8dWlqYcYG6G_",
    "outputId": "cfe2844a-bf29-471e-8e0b-0eba6507564e"
   },
   "outputs": [],
   "execution_count": null
  },
  {
   "cell_type": "markdown",
   "source": [
    "# **Construção do Modelo**"
   ],
   "metadata": {
    "id": "N1jGIm16I9B7"
   }
  },
  {
   "cell_type": "code",
   "source": [
    "# Modelo Random Forest Regressor\n",
    "from sklearn.ensemble import RandomForestRegressor\n",
    "\n",
    "# Instanciar\n",
    "Modelo_Floresta = RandomForestRegressor(max_depth=5)\n",
    "\n",
    "# Fitar\n",
    "Modelo_Floresta.fit(x_treino, y_treino)"
   ],
   "metadata": {
    "id": "cz7IW6elJgbN",
    "colab": {
     "base_uri": "https://localhost:8080/"
    },
    "outputId": "3c8d4d74-4f19-4cd5-9e23-2213ca7ec113"
   },
   "outputs": [],
   "execution_count": null
  },
  {
   "cell_type": "code",
   "source": [
    "# Avaliar a performance\n",
    "Previsoes = Modelo_Floresta.predict(x_teste)\n",
    "\n",
    "# Funcao para avaliar\n",
    "from sklearn.metrics import mean_squared_error, r2_score\n",
    "from math import sqrt\n",
    "\n",
    "print(f'RMSE: {sqrt(mean_squared_error(y_teste, Previsoes))} ')\n",
    "print(f'Score: {r2_score(y_teste, Previsoes)} ')"
   ],
   "metadata": {
    "colab": {
     "base_uri": "https://localhost:8080/"
    },
    "id": "qzopoBR3Kij1",
    "outputId": "bf629b56-74c3-480f-d964-4da4c1438841"
   },
   "outputs": [],
   "execution_count": null
  },
  {
   "cell_type": "code",
   "source": [
    "# Avaliando Yellowbrick\n",
    "from yellowbrick.regressor import PredictionError\n",
    "\n",
    "# Instanciar\n",
    "Modelo = RandomForestRegressor(max_depth=5)\n",
    "Erro_Modelo = PredictionError(Modelo)\n",
    "\n",
    "# Fitar\n",
    "Erro_Modelo.fit(x_treino, y_treino)\n",
    "Erro_Modelo.score(x_teste, y_teste)\n",
    "Erro_Modelo.show();"
   ],
   "metadata": {
    "colab": {
     "base_uri": "https://localhost:8080/",
     "height": 378
    },
    "id": "qp53CxfWMD-O",
    "outputId": "c0685bec-751e-4e01-9164-527156690d7e"
   },
   "outputs": [],
   "execution_count": null
  },
  {
   "cell_type": "markdown",
   "source": [
    "# **Exportação**"
   ],
   "metadata": {
    "id": "VhPd5Mu2RwXN"
   }
  },
  {
   "cell_type": "code",
   "source": [
    "# Exportando o modelo\n",
    "import joblib\n",
    "\n",
    "# Função\n",
    "joblib.dump(Modelo_Floresta, 'Modelo_Floresta_Aleatorio_v100.pkl')"
   ],
   "metadata": {
    "colab": {
     "base_uri": "https://localhost:8080/"
    },
    "id": "OuqwIlqeRyDx",
    "outputId": "1fafc694-2f5a-48f2-bc44-bd65c681cb56"
   },
   "outputs": [],
   "execution_count": null
  },
  {
   "cell_type": "code",
   "source": [
    "# Testando o modelo treinado\n",
    "Funcao_Modelo_Carregado = joblib.load('Modelo_Floresta_Aleatorio_v100.pkl')"
   ],
   "metadata": {
    "id": "NELhB3qBSGsJ"
   },
   "outputs": [],
   "execution_count": null
  },
  {
   "cell_type": "code",
   "source": [
    "# Testando\n",
    "Funcao_Modelo_Carregado.predict(x_teste.head(1).values)"
   ],
   "metadata": {
    "colab": {
     "base_uri": "https://localhost:8080/"
    },
    "id": "ZaK_4E5RSUvI",
    "outputId": "20e07d9f-8be3-4767-ad69-78495fe96f61"
   },
   "outputs": [],
   "execution_count": null
  },
  {
   "cell_type": "code",
   "source": [
    "x_teste.head(2).values"
   ],
   "metadata": {
    "colab": {
     "base_uri": "https://localhost:8080/"
    },
    "id": "v7W-ta5MGV0l",
    "outputId": "13f391ac-8d39-4876-b496-f14c4c943c53"
   },
   "outputs": [],
   "execution_count": null
  },
  {
   "cell_type": "code",
   "source": [],
   "metadata": {
    "id": "he4toHJeGXK4"
   },
   "outputs": [],
   "execution_count": null
  }
 ]
}
