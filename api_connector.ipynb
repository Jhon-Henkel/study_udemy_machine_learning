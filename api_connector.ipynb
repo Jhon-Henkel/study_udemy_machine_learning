{
 "cells": [
  {
   "metadata": {},
   "cell_type": "raw",
   "source": "# Sistema de conexão com a api",
   "id": "3837fc3810efb4a0"
  },
  {
   "metadata": {
    "ExecuteTime": {
     "end_time": "2025-05-10T19:00:12.497471Z",
     "start_time": "2025-05-10T19:00:12.490102Z"
    }
   },
   "cell_type": "code",
   "source": [
    "import requests\n",
    "\n",
    "url = 'http://127.0.0.1:5000/api/predictive'\n",
    "response = requests.get(url)\n",
    "result = response.json()\n",
    "\n",
    "result"
   ],
   "id": "f1445e3734cba22a",
   "outputs": [
    {
     "data": {
      "text/plain": [
       "{'Response': 'Ok'}"
      ]
     },
     "execution_count": 6,
     "metadata": {},
     "output_type": "execute_result"
    }
   ],
   "execution_count": 6
  }
 ],
 "metadata": {},
 "nbformat": 4,
 "nbformat_minor": 5
}
