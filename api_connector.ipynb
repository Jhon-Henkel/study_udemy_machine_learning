{
 "cells": [
  {
   "cell_type": "raw",
   "id": "3837fc3810efb4a0",
   "metadata": {},
   "source": [
    "Sistema de conexão com a api"
   ]
  },
  {
   "cell_type": "code",
   "execution_count": null,
   "id": "f1445e3734cba22a",
   "metadata": {},
   "outputs": [],
   "source": [
    "import requests\n",
    "\n",
    "# params = area, rooms, bathroom, parking_spaces, floor, animal, furniture, hoa, property_tax\n",
    "url = 'http://127.0.0.1:5000/api/predictive/25;1;1;0;0;0;0;0;84'\n",
    "response = requests.get(url)\n",
    "result = response.json()\n",
    "\n",
    "result"
   ]
  }
 ],
 "metadata": {},
 "nbformat": 4,
 "nbformat_minor": 5
}
