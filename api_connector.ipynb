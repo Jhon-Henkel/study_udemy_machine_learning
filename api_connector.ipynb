{
 "cells": [
  {
   "metadata": {},
   "cell_type": "raw",
   "source": "Sistema de conexão com a api",
   "id": "3837fc3810efb4a0"
  },
  {
   "metadata": {
    "ExecuteTime": {
     "end_time": "2025-05-10T23:51:40.266928Z",
     "start_time": "2025-05-10T23:51:40.227512Z"
    }
   },
   "cell_type": "code",
   "source": [
    "import requests\n",
    "\n",
    "# params = area, rooms, bathroom, parking_spaces, floor, animal, furniture, hoa, property_tax\n",
    "url = 'http://127.0.0.1:5000/api/predictive/25;1;1;0;0;0;0;0;84'\n",
    "response = requests.get(url)\n",
    "result = response.json()\n",
    "\n",
    "result"
   ],
   "id": "f1445e3734cba22a",
   "outputs": [
    {
     "data": {
      "text/plain": [
       "{'response': '1520.8633932283617'}"
      ]
     },
     "execution_count": 16,
     "metadata": {},
     "output_type": "execute_result"
    }
   ],
   "execution_count": 16
  }
 ],
 "metadata": {},
 "nbformat": 4,
 "nbformat_minor": 5
}
