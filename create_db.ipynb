{
 "cells": [
  {
   "metadata": {},
   "cell_type": "markdown",
   "source": "Criação do banco de dados",
   "id": "75af16fcbd54e8"
  },
  {
   "metadata": {
    "ExecuteTime": {
     "end_time": "2025-05-10T23:20:07.912043Z",
     "start_time": "2025-05-10T23:20:07.908007Z"
    }
   },
   "cell_type": "code",
   "source": [
    "import sqlite3\n",
    "\n",
    "sqlite3.connect('api.db')\n",
    "conn = sqlite3.connect('api.db')"
   ],
   "id": "9353b1295a0b4e23",
   "outputs": [],
   "execution_count": 2
  },
  {
   "metadata": {
    "ExecuteTime": {
     "end_time": "2025-05-10T23:20:22.850306Z",
     "start_time": "2025-05-10T23:20:22.846484Z"
    }
   },
   "cell_type": "code",
   "source": "cursor = conn.cursor()",
   "id": "52aab40879260957",
   "outputs": [],
   "execution_count": 3
  },
  {
   "metadata": {
    "ExecuteTime": {
     "end_time": "2025-05-10T23:24:47.340873Z",
     "start_time": "2025-05-10T23:24:47.290492Z"
    }
   },
   "cell_type": "code",
   "source": [
    "query = '''\n",
    "CREATE TABLE IF NOT EXISTS log_api (\n",
    "    id INTEGER NOT NULL PRIMARY KEY AUTOINCREMENT,\n",
    "    inputs TEXT,\n",
    "    start_date TEXT,\n",
    "    end_date TEXT,\n",
    "    process_time TEXT\n",
    ")\n",
    "'''\n",
    "\n",
    "cursor.execute(query)"
   ],
   "id": "f8cc2a630b585956",
   "outputs": [
    {
     "data": {
      "text/plain": [
       "<sqlite3.Cursor at 0x21bf45130c0>"
      ]
     },
     "execution_count": 4,
     "metadata": {},
     "output_type": "execute_result"
    }
   ],
   "execution_count": 4
  },
  {
   "metadata": {
    "ExecuteTime": {
     "end_time": "2025-05-10T23:26:39.082892Z",
     "start_time": "2025-05-10T23:26:39.078292Z"
    }
   },
   "cell_type": "code",
   "source": "cursor.execute('''SELECT * FROM log_api''').fetchall()",
   "id": "5462186ead74a285",
   "outputs": [
    {
     "data": {
      "text/plain": [
       "[]"
      ]
     },
     "execution_count": 6,
     "metadata": {},
     "output_type": "execute_result"
    }
   ],
   "execution_count": 6
  }
 ],
 "metadata": {
  "kernelspec": {
   "display_name": "Python 3",
   "language": "python",
   "name": "python3"
  },
  "language_info": {
   "codemirror_mode": {
    "name": "ipython",
    "version": 2
   },
   "file_extension": ".py",
   "mimetype": "text/x-python",
   "name": "python",
   "nbconvert_exporter": "python",
   "pygments_lexer": "ipython2",
   "version": "2.7.6"
  }
 },
 "nbformat": 4,
 "nbformat_minor": 5
}
