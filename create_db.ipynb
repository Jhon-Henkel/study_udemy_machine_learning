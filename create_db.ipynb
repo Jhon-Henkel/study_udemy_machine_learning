{
 "cells": [
  {
   "cell_type": "markdown",
   "id": "75af16fcbd54e8",
   "metadata": {},
   "source": [
    "Criação do banco de dados"
   ]
  },
  {
   "cell_type": "code",
   "execution_count": null,
   "id": "9353b1295a0b4e23",
   "metadata": {},
   "outputs": [],
   "source": [
    "import sqlite3\n",
    "\n",
    "sqlite3.connect('api.db')\n",
    "conn = sqlite3.connect('api.db')"
   ]
  },
  {
   "cell_type": "code",
   "execution_count": null,
   "id": "52aab40879260957",
   "metadata": {},
   "outputs": [],
   "source": [
    "cursor = conn.cursor()"
   ]
  },
  {
   "cell_type": "code",
   "execution_count": null,
   "id": "f8cc2a630b585956",
   "metadata": {},
   "outputs": [],
   "source": [
    "query = '''\n",
    "CREATE TABLE IF NOT EXISTS log_api (\n",
    "    id INTEGER NOT NULL PRIMARY KEY AUTOINCREMENT,\n",
    "    inputs TEXT,\n",
    "    start_date TEXT,\n",
    "    end_date TEXT,\n",
    "    process_time TEXT\n",
    ")\n",
    "'''\n",
    "\n",
    "cursor.execute(query)"
   ]
  },
  {
   "cell_type": "code",
   "execution_count": null,
   "id": "5462186ead74a285",
   "metadata": {},
   "outputs": [],
   "source": [
    "cursor.execute('''SELECT * FROM log_api''').fetchall()"
   ]
  }
 ],
 "metadata": {
  "kernelspec": {
   "display_name": "Python 3",
   "language": "python",
   "name": "python3"
  },
  "language_info": {
   "codemirror_mode": {
    "name": "ipython",
    "version": 2
   },
   "file_extension": ".py",
   "mimetype": "text/x-python",
   "name": "python",
   "nbconvert_exporter": "python",
   "pygments_lexer": "ipython2"
  }
 },
 "nbformat": 4,
 "nbformat_minor": 5
}
